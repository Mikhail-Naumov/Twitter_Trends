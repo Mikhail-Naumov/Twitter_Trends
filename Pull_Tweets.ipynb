{
 "cells": [
  {
   "cell_type": "code",
   "execution_count": 20,
   "metadata": {},
   "outputs": [],
   "source": [
    "import time\n",
    "import oauth2\n",
    "import tweepy\n",
    "import pandas as pd\n",
    "from tqdm import tqdm\n",
    "from Twitter_codes import keys"
   ]
  },
  {
   "cell_type": "code",
   "execution_count": 21,
   "metadata": {},
   "outputs": [],
   "source": [
    "CONSUMER_KEY, CONSUMER_SECRET, ACCESS_TOKEN, ACCESS_SECRET = keys()"
   ]
  },
  {
   "cell_type": "code",
   "execution_count": 22,
   "metadata": {},
   "outputs": [],
   "source": [
    "def oauth_req(url, http_method=\"GET\", post_body=\"\", http_headers=None):\n",
    "    consumer = oauth2.Consumer(key=CONSUMER_KEY, secret=CONSUMER_SECRET)\n",
    "    token = oauth2.Token(key=ACCESS_TOKEN, secret=ACCESS_SECRET)\n",
    "    client = oauth2.Client(consumer, token)\n",
    "    resp, content = client.request( url, method=http_method, body=bytes(post_body, \"utf-8\"), headers=http_headers )\n",
    "    return content\n",
    "\n",
    "#home_timeline = oauth_req( 'https://api.twitter.com/1.1/statuses/home_timeline.json')"
   ]
  },
  {
   "cell_type": "code",
   "execution_count": 23,
   "metadata": {},
   "outputs": [],
   "source": [
    "auth = tweepy.OAuthHandler(CONSUMER_KEY, CONSUMER_SECRET)\n",
    "auth.set_access_token(ACCESS_TOKEN, ACCESS_SECRET)\n",
    "\n",
    "api = tweepy.API(auth)"
   ]
  },
  {
   "cell_type": "code",
   "execution_count": 24,
   "metadata": {},
   "outputs": [],
   "source": [
    "search = ['@McDonalds', \n",
    "         '@Sonicdrivein', \n",
    "         '@Starbucks',\n",
    "         '@Shakeshack',\n",
    "         '@Dominos',\n",
    "         '@DennysDiner',\n",
    "         '@ChipotleTweets',\n",
    "         '@Wendys',\n",
    "         '@Dunkindonuts']"
   ]
  },
  {
   "cell_type": "code",
   "execution_count": 25,
   "metadata": {},
   "outputs": [],
   "source": [
    "date = time.strftime('%Y-%m-%d_%H:%M:%S',time.localtime(time.time()))"
   ]
  },
  {
   "cell_type": "code",
   "execution_count": 26,
   "metadata": {},
   "outputs": [
    {
     "name": "stderr",
     "output_type": "stream",
     "text": [
      "100%|██████████| 9/9 [01:46<00:00, 11.85s/it]\n"
     ]
    }
   ],
   "source": [
    "all_companies = []\n",
    "for company in tqdm(search):\n",
    "    list_tweets = []\n",
    "    for tweet in tweepy.Cursor(api.search, q=company, retry_delay=5, wait_on_rate_limit=True, lang=\"en\").items(500):\n",
    "        if not tweet.retweeted:\n",
    "            if not tweet.is_quote_status:\n",
    "                if not tweet.user.screen_name == company[1:]:\n",
    "                    twitter_dic = {}\n",
    "                    twitter_dic['Company'] = company\n",
    "                    twitter_dic['time_tweeted'] = tweet.created_at\n",
    "                    twitter_dic['unique_code'] = tweet.id_str\n",
    "\n",
    "                    twitter_dic['text'] = tweet.text\n",
    "                    twitter_dic['meta_lang'] = tweet.metadata['iso_language_code']\n",
    "                    twitter_dic['hashtag'] = tweet.entities['hashtags']\n",
    "                    twitter_dic['source'] = tweet.source\n",
    "\n",
    "                    twitter_dic['retweet_count'] = tweet.retweet_count     \n",
    "                    twitter_dic['favorite_count'] = tweet.favorite_count\n",
    "                    twitter_dic['user_followers_count'] = tweet.author.followers_count\n",
    "                    twitter_dic['user_name'] = tweet.author.name\n",
    "                    twitter_dic['user_location'] = tweet.author.location\n",
    "                    twitter_dic['number_of_user_tweets'] = tweet.author.statuses_count\n",
    "                    twitter_dic['user_is_verified'] = tweet.author.verified\n",
    "                    twitter_dic['user_profile_text'] = tweet.author.description\n",
    "                    twitter_dic['number_of_people_they_follow'] = tweet.author.friends_count\n",
    "                    list_tweets.append(twitter_dic)\n",
    "    all_companies.extend(list_tweets) "
   ]
  },
  {
   "cell_type": "code",
   "execution_count": 72,
   "metadata": {},
   "outputs": [],
   "source": [
    "df = pd.DataFrame(all_companies)"
   ]
  },
  {
   "cell_type": "code",
   "execution_count": null,
   "metadata": {},
   "outputs": [],
   "source": [
    "#pdf = pd.DataFrame(columns=df.columns)\n",
    "pdf = pd.read_csv('./Data/Tweets.csv')"
   ]
  },
  {
   "cell_type": "code",
   "execution_count": 74,
   "metadata": {},
   "outputs": [],
   "source": [
    "pdf = pdf.append(df)"
   ]
  },
  {
   "cell_type": "code",
   "execution_count": 75,
   "metadata": {},
   "outputs": [],
   "source": [
    "pdf.to_csv('./Data/Tweets.csv',index=False)"
   ]
  },
  {
   "cell_type": "code",
   "execution_count": null,
   "metadata": {},
   "outputs": [],
   "source": []
  }
 ],
 "metadata": {
  "kernelspec": {
   "display_name": "Python [default]",
   "language": "python",
   "name": "python3"
  },
  "language_info": {
   "codemirror_mode": {
    "name": "ipython",
    "version": 3
   },
   "file_extension": ".py",
   "mimetype": "text/x-python",
   "name": "python",
   "nbconvert_exporter": "python",
   "pygments_lexer": "ipython3",
   "version": "3.6.4"
  }
 },
 "nbformat": 4,
 "nbformat_minor": 2
}
