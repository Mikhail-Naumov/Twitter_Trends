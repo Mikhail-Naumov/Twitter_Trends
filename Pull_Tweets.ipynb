{
 "cells": [
  {
   "cell_type": "code",
   "execution_count": 1,
   "metadata": {},
   "outputs": [],
   "source": [
    "from Twitter_codes import keys"
   ]
  },
  {
   "cell_type": "code",
   "execution_count": 2,
   "metadata": {},
   "outputs": [],
   "source": [
    "CONSUMER_KEY, CONSUMER_SECRET, ACCESS_TOKEN, ACCESS_SECRET = keys()"
   ]
  },
  {
   "cell_type": "code",
   "execution_count": 112,
   "metadata": {},
   "outputs": [],
   "source": [
    "import pandas as pd\n",
    "import oauth2\n",
    "import tweepy\n",
    "from tqdm import tqdm"
   ]
  },
  {
   "cell_type": "code",
   "execution_count": 4,
   "metadata": {},
   "outputs": [],
   "source": [
    "def oauth_req(url, http_method=\"GET\", post_body=\"\", http_headers=None):\n",
    "    consumer = oauth2.Consumer(key=CONSUMER_KEY, secret=CONSUMER_SECRET)\n",
    "    token = oauth2.Token(key=ACCESS_TOKEN, secret=ACCESS_SECRET)\n",
    "    client = oauth2.Client(consumer, token)\n",
    "    resp, content = client.request( url, method=http_method, body=bytes(post_body, \"utf-8\"), headers=http_headers )\n",
    "    return content\n",
    "\n",
    "#home_timeline = oauth_req( 'https://api.twitter.com/1.1/statuses/home_timeline.json')"
   ]
  },
  {
   "cell_type": "code",
   "execution_count": 54,
   "metadata": {},
   "outputs": [],
   "source": [
    "auth = tweepy.OAuthHandler(CONSUMER_KEY, CONSUMER_SECRET)\n",
    "auth.set_access_token(ACCESS_TOKEN, ACCESS_SECRET)\n",
    "\n",
    "api = tweepy.API(auth)"
   ]
  },
  {
   "cell_type": "code",
   "execution_count": 126,
   "metadata": {},
   "outputs": [],
   "source": [
    "search = ['@McDonalds', \n",
    "         '@Sonicdrivein', \n",
    "         '@Starbucks',\n",
    "         '@Shakeshack',\n",
    "         '@Dominos',\n",
    "         '@DennysDiner',\n",
    "         '@ChipotleTweets',\n",
    "         '@Wendys',\n",
    "         '@Dunkindonuts']"
   ]
  },
  {
   "cell_type": "code",
   "execution_count": 130,
   "metadata": {},
   "outputs": [
    {
     "name": "stderr",
     "output_type": "stream",
     "text": [
      "100%|██████████| 9/9 [00:40<00:00,  4.49s/it]\n"
     ]
    }
   ],
   "source": [
    "all_companies = []\n",
    "for company in tqdm(search):\n",
    "    list_tweets = []\n",
    "    for tweet in tweepy.Cursor(api.search, q=company, retry_delay=5, wait_on_rate_limit=True, lang=\"en\").items(250):\n",
    "        if not tweet.retweeted:\n",
    "            if not tweet.is_quote_status:\n",
    "                if not tweet.user.screen_name == company[1:]:\n",
    "                    twitter_dic = {}\n",
    "                    twitter_dic['Company'] = company\n",
    "                    twitter_dic['time_tweeted'] = tweet.created_at\n",
    "                    twitter_dic['unique_code'] = tweet.id_str\n",
    "\n",
    "                    twitter_dic['text'] = tweet.text\n",
    "                    twitter_dic['meta_lang'] = tweet.metadata['iso_language_code']\n",
    "                    twitter_dic['hashtag'] = tweet.entities['hashtags']\n",
    "                    twitter_dic['source'] = tweet.source\n",
    "\n",
    "                    twitter_dic['retweet_count'] = tweet.retweet_count     \n",
    "                    twitter_dic['favorite_count'] = tweet.favorite_count\n",
    "                    twitter_dic['user_followers_count'] = tweet.author.followers_count\n",
    "                    twitter_dic['user_name'] = tweet.author.name\n",
    "                    twitter_dic['user_location'] = tweet.author.location\n",
    "                    twitter_dic['number_of_user_tweets'] = tweet.author.statuses_count\n",
    "                    twitter_dic['user_is_verified'] = tweet.author.verified\n",
    "                    twitter_dic['user_profile_text'] = tweet.author.description\n",
    "                    twitter_dic['number_of_people_they_follow'] = tweet.author.friends_count\n",
    "                    list_tweets.append(twitter_dic)\n",
    "    all_companies.extend(list_tweets) \n"
   ]
  },
  {
   "cell_type": "code",
   "execution_count": 131,
   "metadata": {},
   "outputs": [],
   "source": [
    "df = pd.DataFrame(all_companies)"
   ]
  },
  {
   "cell_type": "code",
   "execution_count": 15,
   "metadata": {},
   "outputs": [
    {
     "data": {
      "text/plain": [
       "'2018-06-17_15:42:04'"
      ]
     },
     "execution_count": 15,
     "metadata": {},
     "output_type": "execute_result"
    }
   ],
   "source": [
    "import time\n",
    "date = time.strftime('%Y-%m-%d_%H:%M:%S',time.localtime(time.time()))\n",
    "#date"
   ]
  },
  {
   "cell_type": "code",
   "execution_count": 132,
   "metadata": {},
   "outputs": [],
   "source": [
    "with open('./Tweets_{}.csv'.format(date), 'a') as f:\n",
    "    df.to_csv(f, header=False)"
   ]
  },
  {
   "cell_type": "code",
   "execution_count": 93,
   "metadata": {},
   "outputs": [],
   "source": [
    "eg = tweepy.Cursor(api.search, q='@Starbucks', retry_delay=5, wait_on_rate_limit=True, lang=\"en\").items(250)"
   ]
  },
  {
   "cell_type": "code",
   "execution_count": 99,
   "metadata": {},
   "outputs": [
    {
     "name": "stdout",
     "output_type": "stream",
     "text": [
      "########\n",
      "@janeswitzer Kara Thrace! ➡️ Starbuck ➡️ Battlestar Galactica.\n",
      "It’s nerd Friday.\n",
      "########\n",
      "2018-06-15 15:56:00\n",
      "########\n",
      "recent\n",
      "########\n",
      "[]\n",
      "########\n",
      "User Source\n",
      "Twitter for iPad\n",
      "########\n",
      "User Location\n",
      "Ottawa, Canada\n",
      "########\n",
      "User Follower Count\n",
      "3883\n",
      "!!!!\n",
      "Favorate Count\n",
      "0\n",
      "is retweet\n",
      "Status(_api=<tweepy.api.API object at 0x1135a6e48>, _json={'created_at': 'Fri Jun 15 15:56:00 +0000 2018', 'id': 1007652954910986241, 'id_str': '1007652954910986241', 'text': '@janeswitzer Kara Thrace! ➡️ Starbuck ➡️ Battlestar Galactica.\\nIt’s nerd Friday.', 'truncated': False, 'entities': {'hashtags': [], 'symbols': [], 'user_mentions': [{'screen_name': 'janeswitzer', 'name': 'Jane Switzer', 'id': 29650142, 'id_str': '29650142', 'indices': [0, 12]}], 'urls': []}, 'metadata': {'iso_language_code': 'en', 'result_type': 'recent'}, 'source': '<a href=\"http://twitter.com/#!/download/ipad\" rel=\"nofollow\">Twitter for iPad</a>', 'in_reply_to_status_id': 1007643649650225153, 'in_reply_to_status_id_str': '1007643649650225153', 'in_reply_to_user_id': 29650142, 'in_reply_to_user_id_str': '29650142', 'in_reply_to_screen_name': 'janeswitzer', 'user': {'id': 508993989, 'id_str': '508993989', 'name': 'John Brenner', 'screen_name': 'BrnrJohn', 'location': 'Ottawa, Canada', 'description': 'Radio performer. Check, check, 1-2. 🎙You say you want the world to change, but not today. https://t.co/4FXV2odTJw #WeAnimals #CompassionForAll', 'url': None, 'entities': {'description': {'urls': [{'url': 'https://t.co/4FXV2odTJw', 'expanded_url': 'http://cedarrow.org', 'display_url': 'cedarrow.org', 'indices': [90, 113]}]}}, 'protected': False, 'followers_count': 3883, 'friends_count': 3552, 'listed_count': 281, 'created_at': 'Wed Feb 29 16:15:11 +0000 2012', 'favourites_count': 14734, 'utc_offset': None, 'time_zone': None, 'geo_enabled': False, 'verified': False, 'statuses_count': 24221, 'lang': 'en', 'contributors_enabled': False, 'is_translator': False, 'is_translation_enabled': False, 'profile_background_color': 'C0DEED', 'profile_background_image_url': 'http://abs.twimg.com/images/themes/theme1/bg.png', 'profile_background_image_url_https': 'https://abs.twimg.com/images/themes/theme1/bg.png', 'profile_background_tile': False, 'profile_image_url': 'http://pbs.twimg.com/profile_images/952656128726437888/K7S7rM3b_normal.jpg', 'profile_image_url_https': 'https://pbs.twimg.com/profile_images/952656128726437888/K7S7rM3b_normal.jpg', 'profile_banner_url': 'https://pbs.twimg.com/profile_banners/508993989/1527429757', 'profile_link_color': '1DA1F2', 'profile_sidebar_border_color': 'C0DEED', 'profile_sidebar_fill_color': 'DDEEF6', 'profile_text_color': '333333', 'profile_use_background_image': True, 'has_extended_profile': False, 'default_profile': True, 'default_profile_image': False, 'following': False, 'follow_request_sent': False, 'notifications': False, 'translator_type': 'none'}, 'geo': None, 'coordinates': None, 'place': None, 'contributors': None, 'is_quote_status': False, 'retweet_count': 0, 'favorite_count': 0, 'favorited': False, 'retweeted': False, 'lang': 'en'}, created_at=datetime.datetime(2018, 6, 15, 15, 56), id=1007652954910986241, id_str='1007652954910986241', text='@janeswitzer Kara Thrace! ➡️ Starbuck ➡️ Battlestar Galactica.\\nIt’s nerd Friday.', truncated=False, entities={'hashtags': [], 'symbols': [], 'user_mentions': [{'screen_name': 'janeswitzer', 'name': 'Jane Switzer', 'id': 29650142, 'id_str': '29650142', 'indices': [0, 12]}], 'urls': []}, metadata={'iso_language_code': 'en', 'result_type': 'recent'}, source='Twitter for iPad', source_url='http://twitter.com/#!/download/ipad', in_reply_to_status_id=1007643649650225153, in_reply_to_status_id_str='1007643649650225153', in_reply_to_user_id=29650142, in_reply_to_user_id_str='29650142', in_reply_to_screen_name='janeswitzer', author=User(_api=<tweepy.api.API object at 0x1135a6e48>, _json={'id': 508993989, 'id_str': '508993989', 'name': 'John Brenner', 'screen_name': 'BrnrJohn', 'location': 'Ottawa, Canada', 'description': 'Radio performer. Check, check, 1-2. 🎙You say you want the world to change, but not today. https://t.co/4FXV2odTJw #WeAnimals #CompassionForAll', 'url': None, 'entities': {'description': {'urls': [{'url': 'https://t.co/4FXV2odTJw', 'expanded_url': 'http://cedarrow.org', 'display_url': 'cedarrow.org', 'indices': [90, 113]}]}}, 'protected': False, 'followers_count': 3883, 'friends_count': 3552, 'listed_count': 281, 'created_at': 'Wed Feb 29 16:15:11 +0000 2012', 'favourites_count': 14734, 'utc_offset': None, 'time_zone': None, 'geo_enabled': False, 'verified': False, 'statuses_count': 24221, 'lang': 'en', 'contributors_enabled': False, 'is_translator': False, 'is_translation_enabled': False, 'profile_background_color': 'C0DEED', 'profile_background_image_url': 'http://abs.twimg.com/images/themes/theme1/bg.png', 'profile_background_image_url_https': 'https://abs.twimg.com/images/themes/theme1/bg.png', 'profile_background_tile': False, 'profile_image_url': 'http://pbs.twimg.com/profile_images/952656128726437888/K7S7rM3b_normal.jpg', 'profile_image_url_https': 'https://pbs.twimg.com/profile_images/952656128726437888/K7S7rM3b_normal.jpg', 'profile_banner_url': 'https://pbs.twimg.com/profile_banners/508993989/1527429757', 'profile_link_color': '1DA1F2', 'profile_sidebar_border_color': 'C0DEED', 'profile_sidebar_fill_color': 'DDEEF6', 'profile_text_color': '333333', 'profile_use_background_image': True, 'has_extended_profile': False, 'default_profile': True, 'default_profile_image': False, 'following': False, 'follow_request_sent': False, 'notifications': False, 'translator_type': 'none'}, id=508993989, id_str='508993989', name='John Brenner', screen_name='BrnrJohn', location='Ottawa, Canada', description='Radio performer. Check, check, 1-2. 🎙You say you want the world to change, but not today. https://t.co/4FXV2odTJw #WeAnimals #CompassionForAll', url=None, entities={'description': {'urls': [{'url': 'https://t.co/4FXV2odTJw', 'expanded_url': 'http://cedarrow.org', 'display_url': 'cedarrow.org', 'indices': [90, 113]}]}}, protected=False, followers_count=3883, friends_count=3552, listed_count=281, created_at=datetime.datetime(2012, 2, 29, 16, 15, 11), favourites_count=14734, utc_offset=None, time_zone=None, geo_enabled=False, verified=False, statuses_count=24221, lang='en', contributors_enabled=False, is_translator=False, is_translation_enabled=False, profile_background_color='C0DEED', profile_background_image_url='http://abs.twimg.com/images/themes/theme1/bg.png', profile_background_image_url_https='https://abs.twimg.com/images/themes/theme1/bg.png', profile_background_tile=False, profile_image_url='http://pbs.twimg.com/profile_images/952656128726437888/K7S7rM3b_normal.jpg', profile_image_url_https='https://pbs.twimg.com/profile_images/952656128726437888/K7S7rM3b_normal.jpg', profile_banner_url='https://pbs.twimg.com/profile_banners/508993989/1527429757', profile_link_color='1DA1F2', profile_sidebar_border_color='C0DEED', profile_sidebar_fill_color='DDEEF6', profile_text_color='333333', profile_use_background_image=True, has_extended_profile=False, default_profile=True, default_profile_image=False, following=False, follow_request_sent=False, notifications=False, translator_type='none'), user=User(_api=<tweepy.api.API object at 0x1135a6e48>, _json={'id': 508993989, 'id_str': '508993989', 'name': 'John Brenner', 'screen_name': 'BrnrJohn', 'location': 'Ottawa, Canada', 'description': 'Radio performer. Check, check, 1-2. 🎙You say you want the world to change, but not today. https://t.co/4FXV2odTJw #WeAnimals #CompassionForAll', 'url': None, 'entities': {'description': {'urls': [{'url': 'https://t.co/4FXV2odTJw', 'expanded_url': 'http://cedarrow.org', 'display_url': 'cedarrow.org', 'indices': [90, 113]}]}}, 'protected': False, 'followers_count': 3883, 'friends_count': 3552, 'listed_count': 281, 'created_at': 'Wed Feb 29 16:15:11 +0000 2012', 'favourites_count': 14734, 'utc_offset': None, 'time_zone': None, 'geo_enabled': False, 'verified': False, 'statuses_count': 24221, 'lang': 'en', 'contributors_enabled': False, 'is_translator': False, 'is_translation_enabled': False, 'profile_background_color': 'C0DEED', 'profile_background_image_url': 'http://abs.twimg.com/images/themes/theme1/bg.png', 'profile_background_image_url_https': 'https://abs.twimg.com/images/themes/theme1/bg.png', 'profile_background_tile': False, 'profile_image_url': 'http://pbs.twimg.com/profile_images/952656128726437888/K7S7rM3b_normal.jpg', 'profile_image_url_https': 'https://pbs.twimg.com/profile_images/952656128726437888/K7S7rM3b_normal.jpg', 'profile_banner_url': 'https://pbs.twimg.com/profile_banners/508993989/1527429757', 'profile_link_color': '1DA1F2', 'profile_sidebar_border_color': 'C0DEED', 'profile_sidebar_fill_color': 'DDEEF6', 'profile_text_color': '333333', 'profile_use_background_image': True, 'has_extended_profile': False, 'default_profile': True, 'default_profile_image': False, 'following': False, 'follow_request_sent': False, 'notifications': False, 'translator_type': 'none'}, id=508993989, id_str='508993989', name='John Brenner', screen_name='BrnrJohn', location='Ottawa, Canada', description='Radio performer. Check, check, 1-2. 🎙You say you want the world to change, but not today. https://t.co/4FXV2odTJw #WeAnimals #CompassionForAll', url=None, entities={'description': {'urls': [{'url': 'https://t.co/4FXV2odTJw', 'expanded_url': 'http://cedarrow.org', 'display_url': 'cedarrow.org', 'indices': [90, 113]}]}}, protected=False, followers_count=3883, friends_count=3552, listed_count=281, created_at=datetime.datetime(2012, 2, 29, 16, 15, 11), favourites_count=14734, utc_offset=None, time_zone=None, geo_enabled=False, verified=False, statuses_count=24221, lang='en', contributors_enabled=False, is_translator=False, is_translation_enabled=False, profile_background_color='C0DEED', profile_background_image_url='http://abs.twimg.com/images/themes/theme1/bg.png', profile_background_image_url_https='https://abs.twimg.com/images/themes/theme1/bg.png', profile_background_tile=False, profile_image_url='http://pbs.twimg.com/profile_images/952656128726437888/K7S7rM3b_normal.jpg', profile_image_url_https='https://pbs.twimg.com/profile_images/952656128726437888/K7S7rM3b_normal.jpg', profile_banner_url='https://pbs.twimg.com/profile_banners/508993989/1527429757', profile_link_color='1DA1F2', profile_sidebar_border_color='C0DEED', profile_sidebar_fill_color='DDEEF6', profile_text_color='333333', profile_use_background_image=True, has_extended_profile=False, default_profile=True, default_profile_image=False, following=False, follow_request_sent=False, notifications=False, translator_type='none'), geo=None, coordinates=None, place=None, contributors=None, is_quote_status=False, retweet_count=0, favorite_count=0, favorited=False, retweeted=False, lang='en')\n"
     ]
    }
   ],
   "source": [
    "for i in eg:\n",
    "    print('########')\n",
    "    print(i.text)\n",
    "    print('########')\n",
    "    print(i.created_at)\n",
    "    print('########')\n",
    "    print(i.metadata['result_type'])\n",
    "    print('########')\n",
    "    print(i.entities['hashtags'])\n",
    "    print('########')\n",
    "    print('User Source')\n",
    "    print(i.source)\n",
    "    print('########')\n",
    "    print('User Location')\n",
    "    print(i.user.location)\n",
    "    print('########')\n",
    "    #print(i.followers_count)\n",
    "    #print(i.friends_count)\n",
    "    print('User Follower Count')\n",
    "    print(i.user.followers_count)\n",
    "    #print(i.retweet_count)\n",
    "    print(\"!!!!\")\n",
    "    print('Favorate Count')\n",
    "    print(i.favorite_count)\n",
    "    print('is retweet')\n",
    "    print(i)\n",
    "    \n",
    "    break"
   ]
  },
  {
   "cell_type": "code",
   "execution_count": null,
   "metadata": {},
   "outputs": [],
   "source": []
  }
 ],
 "metadata": {
  "kernelspec": {
   "display_name": "Python [default]",
   "language": "python",
   "name": "python3"
  },
  "language_info": {
   "codemirror_mode": {
    "name": "ipython",
    "version": 3
   },
   "file_extension": ".py",
   "mimetype": "text/x-python",
   "name": "python",
   "nbconvert_exporter": "python",
   "pygments_lexer": "ipython3",
   "version": "3.6.4"
  }
 },
 "nbformat": 4,
 "nbformat_minor": 2
}
